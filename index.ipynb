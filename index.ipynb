{
 "cells": [
  {
   "cell_type": "markdown",
   "metadata": {},
   "source": [
    "# LSTMs and GRUs - Lab\n",
    "\n",
    "## Introduction\n",
    "\n",
    "In this lab, we'll learn how to use LSTM cells and GRU cells to build **_Recurrent Neural Networks_** to work with text data!\n",
    "\n",
    "## Objectives\n",
    "\n",
    "You will be able to:\n",
    "\n",
    "* Explain the the problem of vanishing and exploding gradients, and why they are a problem when training RNNs\n",
    "* Demonstrate an understanding of the basic architecture and function of a Long Short Term Memory cell\n",
    "* Demonstrate an understanding of the basic architecture and function of a Gated Recurrent Unit\n",
    "\n",
    "## Getting Started\n",
    "\n",
    "In this lab, we'll see a basic example of how we can use LSTMs and GRU cells to build a Recurrent Neural Network for text classification on the _Newsgroups Dataset_ that is included with scikit-learn. The goal of this lab build 2 nearly identical models so that we can benchmark performances for both LSTMs and GRUs and compare them against one another. \n",
    "\n",
    "We'll begin by loading in everything we'll need for this lab. \n",
    "\n",
    "In the cell below, import the following items:\n",
    "\n",
    "* `fetch20_newsgroups`, from `sklearn.datasets`\n",
    "* `keras`\n",
    "* from `keras.layers`, import the following layers:\n",
    "    * `LSTM`\n",
    "    * `GRU`\n",
    "    * `Dense`\n",
    "    * `GlobalMaxPool1D`\n",
    "    * `Embedding`\n",
    "    * `Dropout`\n",
    "* `Sequential`, from `keras.models`\n",
    "* `text` and `sequence`, from `keras.preprocessing`\n",
    "* `numpy`, `matplotlib`, and `pandas`. Set the standard alias for each.\n",
    "* Also set matplotlib visualizations to appear inline, and use numpy to set a random seed of `0`."
   ]
  },
  {
   "cell_type": "code",
   "execution_count": 5,
   "metadata": {},
   "outputs": [],
   "source": [
    "from sklearn.datasets import fetch_20newsgroups\n",
    "from keras.layers import LSTM, GRU, Dense, GlobalMaxPool1D, Embedding, Dropout\n",
    "from keras.models import Sequential\n",
    "from keras.preprocessing import text, sequence\n",
    "from keras.utils import to_categorical\n",
    "import numpy as np\n",
    "import matplotlib.pyplot as plt\n",
    "import pandas as pd\n",
    "%matplotlib inline\n",
    "np.random.random_seed = 0"
   ]
  },
  {
   "cell_type": "markdown",
   "metadata": {},
   "source": [
    "## Importing and Preprocessing Our Text Data\n",
    "\n",
    "Since we'll be working with a text dataset, we'll need to do a few things to get it into a format where our LSTM and GRU networks can work with it. Specifically, we'll need to:\n",
    "\n",
    "* Import and load the data and labels, and store them separately\n",
    "* Convert the labels to a one-hot encoded format\n",
    "* tokenize our text data\n",
    "* Convert the tokenized text to sequences\n",
    "* Pad the sequences, so that they are all the same length. \n",
    "\n",
    "Let's start by loading in our data. In the cell below, call `fetch_20newsgroups()` to get our data and labels."
   ]
  },
  {
   "cell_type": "code",
   "execution_count": 6,
   "metadata": {},
   "outputs": [],
   "source": [
    "newsgroups = fetch_20newsgroups()"
   ]
  },
  {
   "cell_type": "markdown",
   "metadata": {},
   "source": [
    "Now, let's split off our data and labels, which are currently stored in our `newgroups` object's `.data` and `.target` attributes, respectively.  \n",
    "\n",
    "In the cell below, store the `data` and the `target` in the appropriate variables."
   ]
  },
  {
   "cell_type": "code",
   "execution_count": 7,
   "metadata": {},
   "outputs": [],
   "source": [
    "data = newsgroups.data\n",
    "labels = newsgroups.target"
   ]
  },
  {
   "cell_type": "markdown",
   "metadata": {},
   "source": [
    "Next, we'll need to convert our data to a one-hot encoded format. Keras has a utility function that can easily do this for us called `to_categorical()`, which can be found in `keras.utils`.\n",
    "\n",
    "In the cell below, call the `to_categorical()` function and pass in `labels`, as well as the number of unique classes in our labels, which is `20`."
   ]
  },
  {
   "cell_type": "code",
   "execution_count": 8,
   "metadata": {},
   "outputs": [],
   "source": [
    "labels = to_categorical(labels)"
   ]
  },
  {
   "cell_type": "markdown",
   "metadata": {},
   "source": [
    "### Creating Sequences From Text\n",
    "\n",
    "By now, you've seen this code before. Anytime we work with text data for deep learning, you can expect to see the following preprocessing pattern:\n",
    "\n",
    "> **raw text --> tokenized text --> text sequences --> padded sequences**\n",
    "\n",
    "In the cell below:\n",
    "\n",
    "* Instantiate a `Tokenizer` object, which can be found in the `text` module that we've already imported from `keras`. Set the `num_words` parameter to `20000`, so that our model only keeps the 20,000 must used words.\n",
    "* Call the `tokenizer` object's `.fit_on_texts()` method, and pass in our `data`, which should be converted to a python `list` (do this right inside the method call)\n",
    "* Next, call the `tokenizer` object's `texts_to_sequences()` method and pass in our `data`.\n",
    "* Finally, use the `sequence` module's `pad_sequences()` method to make sure all of our sequences are padded to the exact same size, so that we can set hard limits on the dimensionality of our inputs. For input, pass in our `list_tokenized_train`, as well as the parameter `maxlen=100`, so that all sequences are padded to be of length 100, regardless of the amount of text they actually contain. "
   ]
  },
  {
   "cell_type": "code",
   "execution_count": 9,
   "metadata": {},
   "outputs": [],
   "source": [
    "tokenizer = text.Tokenizer(num_words=20000)\n",
    "tokenizer.fit_on_texts(list(data))\n",
    "\n",
    "list_tokenized_train = tokenizer.texts_to_sequences(data)\n",
    "\n",
    "X_t = sequence.pad_sequences(list_tokenized_train, maxlen=100)"
   ]
  },
  {
   "cell_type": "markdown",
   "metadata": {},
   "source": [
    "Great! We've now finished preprocessing our data, and we're ready to build, compile, and train our models!\n",
    "\n",
    "## Creating Our Models\n",
    "\n",
    "Now, to the fun part--creating, and training to similar LSTM and GRU networks, and comparing their performance and runtimes. \n",
    "\n",
    "### Architectures\n",
    "\n",
    "Both of our models will stick to the following architecture:\n",
    "\n",
    "1. An `Embedding()` layer, of size `(20000, 128)`. This means that the first parameter passed into the embedding layer should be `20000` for the 20,000 words in our our text vocabulary, and the second parameter should be `128`, for the size of the Dense vectors the embedding layer will learn for each of the 20,000 words. \n",
    "2. An `LSTM()` layer (or `GRU()` layer, for the second model) of size `50`. During this step, also set the `return_sequences` parameter to `True`, so that during back propagation our models will calculate loss and learn for every step of the sequence, not just the final result of the sequence.\n",
    "3. A `GlobalMaxPool1D()` layer, so that our model performs a combined _MaxPool_  operation across all weights in the recurrent layer. \n",
    "4. A `Dropout()` layer set to `0.5`.\n",
    "5. A `Dense()` layer of size `50`, with this layer's `activation` parameter set to `'relu'`\n",
    "6. Another `Dropout()` layer set to `0.5`\n",
    "7. A `Dense()` layer that will act as our output layer. This layer should contain `20` neurons (one for each possible predicted class), and should have it's `activation` parameter set to `'softmax'`\n",
    "\n",
    "In the cell below, create our `LSTM` model. \n",
    "\n",
    "**_NOTE:_** For simplicity's sake, we recommend you make use a `Sequential()` object and use that object's `.add()` parameter to add each layer to the network. "
   ]
  },
  {
   "cell_type": "code",
   "execution_count": 15,
   "metadata": {},
   "outputs": [],
   "source": [
    "# LSTM Model\n",
    "\n",
    "lstm_model = Sequential()\n",
    "lstm_model.add(Embedding(20000, 128))\n",
    "lstm_model.add(LSTM(50, return_sequences=True))\n",
    "lstm_model.add(GlobalMaxPool1D())\n",
    "lstm_model.add(Dropout(.5))\n",
    "lstm_model.add(Dense(50, activation='relu'))\n",
    "lstm_model.add(Dropout(.5))\n",
    "lstm_model.add(Dense(20,activation='softmax'))\n",
    "\n"
   ]
  },
  {
   "cell_type": "markdown",
   "metadata": {},
   "source": [
    "### Compilation Parameters\n",
    "\n",
    "Now that we've built our model, we still need to compile it. \n",
    "\n",
    "In the cell below, call our model's `.compile()` method and pass in the following parameters:\n",
    "\n",
    "* `loss='categorical_crossentropy'`\n",
    "* `optimizer='adam'`\n",
    "* `metrics=['accuracy']`"
   ]
  },
  {
   "cell_type": "code",
   "execution_count": 16,
   "metadata": {},
   "outputs": [],
   "source": [
    "lstm_model.compile(loss='categorical_crossentropy', optimizer='adam', metrics=['acc'])"
   ]
  },
  {
   "cell_type": "markdown",
   "metadata": {},
   "source": [
    "### Inspecting Our Compiled Model\n",
    "\n",
    "Before we train our model, let's take a look at what it looks like, and see how many trainable parameters it has. In the cell below, call our model's `.summary()` method to inspect it. "
   ]
  },
  {
   "cell_type": "code",
   "execution_count": 17,
   "metadata": {},
   "outputs": [
    {
     "name": "stdout",
     "output_type": "stream",
     "text": [
      "_________________________________________________________________\n",
      "Layer (type)                 Output Shape              Param #   \n",
      "=================================================================\n",
      "embedding_3 (Embedding)      (None, None, 128)         2560000   \n",
      "_________________________________________________________________\n",
      "lstm_3 (LSTM)                (None, None, 50)          35800     \n",
      "_________________________________________________________________\n",
      "global_max_pooling1d_3 (Glob (None, 50)                0         \n",
      "_________________________________________________________________\n",
      "dropout_5 (Dropout)          (None, 50)                0         \n",
      "_________________________________________________________________\n",
      "dense_5 (Dense)              (None, 50)                2550      \n",
      "_________________________________________________________________\n",
      "dropout_6 (Dropout)          (None, 50)                0         \n",
      "_________________________________________________________________\n",
      "dense_6 (Dense)              (None, 20)                1020      \n",
      "=================================================================\n",
      "Total params: 2,599,370\n",
      "Trainable params: 2,599,370\n",
      "Non-trainable params: 0\n",
      "_________________________________________________________________\n"
     ]
    }
   ],
   "source": [
    "lstm_model.summary()"
   ]
  },
  {
   "cell_type": "markdown",
   "metadata": {},
   "source": [
    "Just under 2.6 million trainable parameters--that's a pretty decent-sized model!\n",
    "\n",
    "### Training Our Model\n",
    "\n",
    "Now that we have preprocessed our data, created our model, and compiled it, we're ready for the moment of truth--training!\n",
    "\n",
    "In the cell below, call our model's `.train()` method and pass in the following parameters:\n",
    "\n",
    "* `X_t`, our padded sequence data\n",
    "* `labels`\n",
    "* `epochs=2`\n",
    "* `batch_size=32`, so that our model trains on mini-batches of 32 examples at a time.\n",
    "* `validation_data=0.1`, so that our model hold out 10% of our data for validation.\n",
    "\n",
    "**_NOTE:_** This will take a few minutes per epoch to train!"
   ]
  },
  {
   "cell_type": "code",
   "execution_count": 21,
   "metadata": {},
   "outputs": [
    {
     "name": "stdout",
     "output_type": "stream",
     "text": [
      "Train on 10182 samples, validate on 1132 samples\n",
      "Epoch 1/2\n",
      "10182/10182 [==============================] - 55s 5ms/step - loss: 2.9263 - acc: 0.0947 - val_loss: 2.5067 - val_acc: 0.2562\n",
      "Epoch 2/2\n",
      "10182/10182 [==============================] - 54s 5ms/step - loss: 2.1590 - acc: 0.2923 - val_loss: 1.5790 - val_acc: 0.5230\n"
     ]
    }
   ],
   "source": [
    "history = lstm_model.fit(X_t, labels, epochs=2, batch_size=32, validation_split=.1)"
   ]
  },
  {
   "cell_type": "markdown",
   "metadata": {},
   "source": [
    "### Building Our GRU Model\n",
    "\n",
    "Now that we have a benchmark for how an LSTM model performs, let's build the exact same model, but with `GRU()` cells instead of `LSTM()` cells!\n",
    "\n",
    "In the cell below, recreate the network we did above, but with `GRU()` neurons immediately following our Embedding layer instead of `LSTM` cells. Use the exact same parameters as we did above at each layer--we want things to be as equal as possible between them, so that we get a good baseline for comparing the two models on performance and runtime!"
   ]
  },
  {
   "cell_type": "code",
   "execution_count": null,
   "metadata": {},
   "outputs": [],
   "source": [
    "# GRU Model\n",
    "\n",
    "gru_model = None\n"
   ]
  },
  {
   "cell_type": "markdown",
   "metadata": {},
   "source": [
    "Now, compile the model with the same parameters we did for the first network."
   ]
  },
  {
   "cell_type": "code",
   "execution_count": null,
   "metadata": {},
   "outputs": [],
   "source": []
  },
  {
   "cell_type": "markdown",
   "metadata": {},
   "source": [
    "Now, let's look at a `.summary()` of our GRU model, and see if it has more or less total trainable parameters than our LSTM model. "
   ]
  },
  {
   "cell_type": "code",
   "execution_count": null,
   "metadata": {},
   "outputs": [],
   "source": []
  },
  {
   "cell_type": "markdown",
   "metadata": {},
   "source": [
    "Finally, train our GRU model using the same parameters as we did for our LSTM model. "
   ]
  },
  {
   "cell_type": "code",
   "execution_count": null,
   "metadata": {},
   "outputs": [],
   "source": []
  },
  {
   "cell_type": "markdown",
   "metadata": {},
   "source": [
    "There we have it! In this particular case, GRUs strongly outperformed LSTMs in the first epoch, but the gap quickly leveled out between them by the end of epoch 2. When comparing LSTMs and GRUs for a given task, this isn't always the case--there are certainly times where LSTMs will outperform GRUs. However, overall, GRUs seem to have a slight advantage over LSTMs. The interesting thing about this is that researchers don't yet know _why_ GRUs tend to slightly outperform LSTMs, especially when GRU cells are a bit simpler than LSTM cells. This is an ongoing area of cutting-edge research in the field of Deep Learning--maybe someday, you'll be the one to solve this mystery!\n",
    "\n",
    "## Summary\n",
    "\n",
    "In this lesson, we created and trained comparable LSTM and GRU models for text classification, and compared their performance and runtimes against one another!"
   ]
  }
 ],
 "metadata": {
  "kernelspec": {
   "display_name": "Python 3",
   "language": "python",
   "name": "python3"
  },
  "language_info": {
   "codemirror_mode": {
    "name": "ipython",
    "version": 3
   },
   "file_extension": ".py",
   "mimetype": "text/x-python",
   "name": "python",
   "nbconvert_exporter": "python",
   "pygments_lexer": "ipython3",
   "version": "3.6.6"
  }
 },
 "nbformat": 4,
 "nbformat_minor": 2
}
